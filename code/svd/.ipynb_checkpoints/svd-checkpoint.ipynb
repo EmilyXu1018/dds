{
 "cells": [
  {
   "cell_type": "code",
   "execution_count": 1,
   "metadata": {
    "collapsed": true
   },
   "outputs": [],
   "source": [
    "import sys,operator\n",
    "from math import log\n",
    "from math import sqrt\n",
    "import numpy as np\n",
    "from scipy import sparse\n",
    "from scipy.sparse.linalg import svds\n",
    "from sklearn.preprocessing import normalize\n",
    "\n",
    "V=5001\n",
    "U=100001"
   ]
  },
  {
   "cell_type": "code",
   "execution_count": 2,
   "metadata": {
    "collapsed": false
   },
   "outputs": [],
   "source": [
    "def findSim(matrix, word):\n",
    "    global reverseVocab\n",
    "    idd=reverseVocab[word]\n",
    "    vals={}\n",
    "    compared=sqrt((np.inner(matrix[idd], matrix[idd])))\n",
    "    for i in range(1,1000):\n",
    "        sim=np.inner(matrix[idd], matrix[i])/(compared * sqrt(np.inner(matrix[i], matrix[i])))\n",
    "        vals[i]=sim\n",
    "\n",
    "    sorted_x = sorted(vals.items(), key=operator.itemgetter(1), reverse=True)\n",
    "    for (k,v) in sorted_x[:10]:\n",
    "        print \"%.3f\\t%s\" % (v, vocab[k])\n"
   ]
  },
  {
   "cell_type": "code",
   "execution_count": 3,
   "metadata": {
    "collapsed": true
   },
   "outputs": [],
   "source": [
    "def readWords(filename):\n",
    "    global reverseVocab, vocba\n",
    "    file=open(filename)\n",
    "    for line in file:\n",
    "        cols=line.rstrip().split(\"\\t\")\n",
    "        wordId=int(cols[0])\n",
    "        word=cols[1]\n",
    "        reverseVocab[word]=wordId\n",
    "        vocab[wordId]=word\n",
    "    file.close()"
   ]
  },
  {
   "cell_type": "code",
   "execution_count": 4,
   "metadata": {
    "collapsed": true
   },
   "outputs": [],
   "source": [
    "idfs=[0]*10001\n",
    "def readIdfs(filename):\n",
    "    file=open(filename)\n",
    "    for line in file:\n",
    "        cols=line.rstrip().split(\"\\t\")\n",
    "        wordId=int(cols[0])\n",
    "        idf=float(cols[1])\n",
    "        idfs[wordId]=idf\n",
    "    file.close()"
   ]
  },
  {
   "cell_type": "code",
   "execution_count": 5,
   "metadata": {
    "collapsed": false
   },
   "outputs": [],
   "source": [
    "def readData(filename):\n",
    "    file=open(filename)\n",
    "    i=0\n",
    "    for line in file:\n",
    "        if (i % 100000) == 0:\n",
    "            print i\n",
    "        i+=1\n",
    "        cols=line.rstrip().split(\",\")\n",
    "        userId=int(cols[0])\n",
    "        wordId=int(cols[1])\n",
    "        count=int(cols[2])\n",
    "        counts[wordId,userId]=count*log(float(U)/(1+idfs[wordId]))\n",
    "    file.close()\n"
   ]
  },
  {
   "cell_type": "code",
   "execution_count": 6,
   "metadata": {
    "collapsed": true
   },
   "outputs": [],
   "source": [
    "def proc(k):\t\n",
    "    (u, s, v) = svds(counts, k=k)\n",
    "    return (u, s, v)"
   ]
  },
  {
   "cell_type": "code",
   "execution_count": 7,
   "metadata": {
    "collapsed": false
   },
   "outputs": [
    {
     "name": "stderr",
     "output_type": "stream",
     "text": [
      "//anaconda/lib/python2.7/site-packages/numpy/core/fromnumeric.py:2641: VisibleDeprecationWarning: `rank` is deprecated; use the `ndim` attribute or function instead. To find the rank of a matrix see `numpy.linalg.matrix_rank`.\n",
      "  VisibleDeprecationWarning)\n"
     ]
    }
   ],
   "source": [
    "vocab=[None]*V\n",
    "reverseVocab={}\n",
    "counts=sparse.dok_matrix((V,U))\n"
   ]
  },
  {
   "cell_type": "code",
   "execution_count": 8,
   "metadata": {
    "collapsed": false
   },
   "outputs": [],
   "source": [
    "readWords(\"unigrams.txt\")"
   ]
  },
  {
   "cell_type": "code",
   "execution_count": 9,
   "metadata": {
    "collapsed": false
   },
   "outputs": [],
   "source": [
    "readIdfs(\"idf.txt\")"
   ]
  },
  {
   "cell_type": "code",
   "execution_count": 10,
   "metadata": {
    "collapsed": false
   },
   "outputs": [
    {
     "name": "stdout",
     "output_type": "stream",
     "text": [
      "0\n",
      "100000\n",
      "200000\n",
      "300000\n",
      "400000\n",
      "500000\n",
      "600000\n",
      "700000\n",
      "800000\n",
      "900000\n",
      "1000000\n",
      "1100000\n",
      "1200000\n"
     ]
    }
   ],
   "source": [
    "print \"reading data\"\n",
    "readData(\"data.txt\")"
   ]
  },
  {
   "cell_type": "code",
   "execution_count": 11,
   "metadata": {
    "collapsed": true
   },
   "outputs": [],
   "source": [
    "counts=counts.tocsr()"
   ]
  },
  {
   "cell_type": "code",
   "execution_count": 12,
   "metadata": {
    "collapsed": false
   },
   "outputs": [
    {
     "name": "stdout",
     "output_type": "stream",
     "text": [
      "calculating SVD\n",
      "(5001, 100) (100,) (100, 100001)\n"
     ]
    }
   ],
   "source": [
    "print \"calculating SVD\"\n",
    "(u,s,v)=proc(100)\n",
    "print u.shape, s.shape, v.shape"
   ]
  },
  {
   "cell_type": "code",
   "execution_count": 18,
   "metadata": {
    "collapsed": false
   },
   "outputs": [
    {
     "name": "stdout",
     "output_type": "stream",
     "text": [
      "most related terms (SVD)\n",
      "1.000\tbaby\n",
      "0.728\tboy\n",
      "0.684\tmama\n",
      "0.676\tchildren\n",
      "0.673\twoman\n",
      "0.667\tcrazy\n",
      "0.659\tmommy\n",
      "0.653\twonderful\n",
      "0.649\tsweet\n",
      "0.631\t5\n",
      "\n",
      "most related terms (full matrix)\n",
      "1.000\tbaby\n",
      "0.068\tboy\n",
      "0.049\tgirl\n",
      "0.041\ta\n",
      "0.039\tmommy\n",
      "0.039\tto\n",
      "0.037\t!\n",
      "0.036\tand\n",
      "0.035\twife\n",
      "0.034\tmy\n"
     ]
    }
   ],
   "source": [
    "def query(matrix1, matrix2, q):\n",
    "    print \"most related terms (SVD)\"\n",
    "    findSim(matrix1,q)\n",
    "    print \"\\nmost related terms (full matrix)\"\n",
    "    findSim(matrix2,q)    \n",
    "\n",
    "q=\"baby\"\n",
    "query(np.mat(u)*np.diag(s), counts.todense(), q)\n"
   ]
  },
  {
   "cell_type": "code",
   "execution_count": null,
   "metadata": {
    "collapsed": true
   },
   "outputs": [],
   "source": []
  }
 ],
 "metadata": {
  "kernelspec": {
   "display_name": "Python 2",
   "language": "python",
   "name": "python2"
  },
  "language_info": {
   "codemirror_mode": {
    "name": "ipython",
    "version": 2
   },
   "file_extension": ".py",
   "mimetype": "text/x-python",
   "name": "python",
   "nbconvert_exporter": "python",
   "pygments_lexer": "ipython2",
   "version": "2.7.10"
  }
 },
 "nbformat": 4,
 "nbformat_minor": 0
}
