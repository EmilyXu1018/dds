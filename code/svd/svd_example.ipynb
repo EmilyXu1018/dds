{
 "cells": [
  {
   "cell_type": "code",
   "execution_count": 14,
   "metadata": {
    "collapsed": true
   },
   "outputs": [],
   "source": [
    "import sys,operator\n",
    "from math import log\n",
    "from math import sqrt\n",
    "import numpy as np\n",
    "from scipy import sparse\n",
    "from scipy.sparse.linalg import svds\n",
    "from sklearn.preprocessing import normalize\n",
    "\n",
    "V=5001\n",
    "U=100001"
   ]
  },
  {
   "cell_type": "code",
   "execution_count": 15,
   "metadata": {
    "collapsed": false
   },
   "outputs": [],
   "source": [
    "def findSim(matrix, word):\n",
    "    global reverseVocab\n",
    "    idd=reverseVocab[word]\n",
    "    vals={}\n",
    "    compared=sqrt((np.inner(matrix[idd], matrix[idd])))\n",
    "    for i in range(1,V):\n",
    "        sim=np.inner(matrix[idd], matrix[i])/(compared * sqrt(np.inner(matrix[i], matrix[i])))\n",
    "        vals[i]=sim\n",
    "\n",
    "    sorted_x = sorted(vals.items(), key=operator.itemgetter(1), reverse=True)\n",
    "    for (k,v) in sorted_x[:10]:\n",
    "        print \"%.3f\\t%s\" % (v, vocab[k])\n"
   ]
  },
  {
   "cell_type": "code",
   "execution_count": 16,
   "metadata": {
    "collapsed": true
   },
   "outputs": [],
   "source": [
    "def readWords(filename):\n",
    "    global reverseVocab, vocba\n",
    "    file=open(filename)\n",
    "    for line in file:\n",
    "        cols=line.rstrip().split(\"\\t\")\n",
    "        wordId=int(cols[0])\n",
    "        word=cols[1]\n",
    "        reverseVocab[word]=wordId\n",
    "        vocab[wordId]=word\n",
    "    file.close()"
   ]
  },
  {
   "cell_type": "code",
   "execution_count": 17,
   "metadata": {
    "collapsed": true
   },
   "outputs": [],
   "source": [
    "idfs=[0]*V\n",
    "def readIdfs(filename):\n",
    "    file=open(filename)\n",
    "    for line in file:\n",
    "        cols=line.rstrip().split(\"\\t\")\n",
    "        wordId=int(cols[0])\n",
    "        idf=float(cols[1])\n",
    "        idfs[wordId]=idf\n",
    "    file.close()"
   ]
  },
  {
   "cell_type": "code",
   "execution_count": 18,
   "metadata": {
    "collapsed": false
   },
   "outputs": [],
   "source": [
    "def readData(filename):\n",
    "    file=open(filename)\n",
    "    i=0\n",
    "    for line in file:\n",
    "        if (i % 100000) == 0:\n",
    "            print i\n",
    "        i+=1\n",
    "        cols=line.rstrip().split(\",\")\n",
    "        userId=int(cols[0])\n",
    "        wordId=int(cols[1])\n",
    "        count=int(cols[2])\n",
    "        counts[wordId,userId]=count*log(float(U)/(1+idfs[wordId]))\n",
    "    file.close()\n"
   ]
  },
  {
   "cell_type": "code",
   "execution_count": 19,
   "metadata": {
    "collapsed": true
   },
   "outputs": [],
   "source": [
    "def proc(k):\t\n",
    "    (u, s, v) = svds(counts, k=k)\n",
    "    return (u, s, v)"
   ]
  },
  {
   "cell_type": "code",
   "execution_count": 20,
   "metadata": {
    "collapsed": false
   },
   "outputs": [],
   "source": [
    "vocab=[None]*V\n",
    "reverseVocab={}\n",
    "counts=sparse.dok_matrix((V,U))\n"
   ]
  },
  {
   "cell_type": "code",
   "execution_count": 21,
   "metadata": {
    "collapsed": false
   },
   "outputs": [],
   "source": [
    "readWords(\"unigrams.txt\")"
   ]
  },
  {
   "cell_type": "code",
   "execution_count": 22,
   "metadata": {
    "collapsed": false
   },
   "outputs": [],
   "source": [
    "readIdfs(\"idf.txt\")"
   ]
  },
  {
   "cell_type": "code",
   "execution_count": 23,
   "metadata": {
    "collapsed": false
   },
   "outputs": [
    {
     "name": "stdout",
     "output_type": "stream",
     "text": [
      "reading data\n",
      "0\n",
      "100000\n",
      "200000\n",
      "300000\n",
      "400000\n",
      "500000\n",
      "600000\n",
      "700000\n",
      "800000\n",
      "900000\n",
      "1000000\n"
     ]
    }
   ],
   "source": [
    "print \"reading data\"\n",
    "readData(\"data.txt\")"
   ]
  },
  {
   "cell_type": "code",
   "execution_count": 24,
   "metadata": {
    "collapsed": true
   },
   "outputs": [],
   "source": [
    "counts=counts.tocsr()"
   ]
  },
  {
   "cell_type": "code",
   "execution_count": 13,
   "metadata": {
    "collapsed": false
   },
   "outputs": [
    {
     "name": "stdout",
     "output_type": "stream",
     "text": [
      "calculating SVD\n",
      "(5001, 100) (100,) (100, 100001)\n"
     ]
    }
   ],
   "source": [
    "print \"calculating SVD\"\n",
    "(u,s,v)=proc(100)\n",
    "print u.shape, s.shape, v.shape"
   ]
  },
  {
   "cell_type": "code",
   "execution_count": 14,
   "metadata": {
    "collapsed": false
   },
   "outputs": [],
   "source": [
    "def query(matrix1, q):\n",
    "    print \"most related terms (SVD)\"\n",
    "    findSim(matrix1,q)   "
   ]
  },
  {
   "cell_type": "code",
   "execution_count": 1,
   "metadata": {
    "collapsed": false
   },
   "outputs": [
    {
     "ename": "NameError",
     "evalue": "name 'query' is not defined",
     "output_type": "error",
     "traceback": [
      "\u001b[0;31m---------------------------------------------------------------------------\u001b[0m",
      "\u001b[0;31mNameError\u001b[0m                                 Traceback (most recent call last)",
      "\u001b[0;32m<ipython-input-1-81293e311c96>\u001b[0m in \u001b[0;36m<module>\u001b[0;34m()\u001b[0m\n\u001b[1;32m      1\u001b[0m \u001b[0mq\u001b[0m\u001b[0;34m=\u001b[0m\u001b[0;34m\"runner\"\u001b[0m\u001b[0;34m\u001b[0m\u001b[0m\n\u001b[0;32m----> 2\u001b[0;31m \u001b[0mquery\u001b[0m\u001b[0;34m(\u001b[0m\u001b[0mnp\u001b[0m\u001b[0;34m.\u001b[0m\u001b[0mmat\u001b[0m\u001b[0;34m(\u001b[0m\u001b[0mu\u001b[0m\u001b[0;34m)\u001b[0m\u001b[0;34m*\u001b[0m\u001b[0mnp\u001b[0m\u001b[0;34m.\u001b[0m\u001b[0mdiag\u001b[0m\u001b[0;34m(\u001b[0m\u001b[0ms\u001b[0m\u001b[0;34m)\u001b[0m\u001b[0;34m,\u001b[0m \u001b[0mq\u001b[0m\u001b[0;34m)\u001b[0m\u001b[0;34m\u001b[0m\u001b[0m\n\u001b[0m",
      "\u001b[0;31mNameError\u001b[0m: name 'query' is not defined"
     ]
    }
   ],
   "source": [
    "q=\"runner\"\n",
    "query(np.mat(u)*np.diag(s), q)"
   ]
  },
  {
   "cell_type": "code",
   "execution_count": null,
   "metadata": {
    "collapsed": true
   },
   "outputs": [],
   "source": []
  }
 ],
 "metadata": {
  "kernelspec": {
   "display_name": "Python 2",
   "language": "python",
   "name": "python2"
  },
  "language_info": {
   "codemirror_mode": {
    "name": "ipython",
    "version": 2
   },
   "file_extension": ".py",
   "mimetype": "text/x-python",
   "name": "python",
   "nbconvert_exporter": "python",
   "pygments_lexer": "ipython2",
   "version": "2.7.10"
  }
 },
 "nbformat": 4,
 "nbformat_minor": 0
}
