{
 "cells": [
  {
   "cell_type": "code",
   "execution_count": 1,
   "metadata": {
    "collapsed": true
   },
   "outputs": [],
   "source": [
    "import sys,math,operator\n",
    "\n",
    "import numpy as np\n",
    "from numpy import linalg as LA\n",
    "\n",
    "vocab={}"
   ]
  },
  {
   "cell_type": "code",
   "execution_count": 27,
   "metadata": {
    "collapsed": true
   },
   "outputs": [],
   "source": [
    "def findsim_vector(a):\n",
    "    scores={}\n",
    "\n",
    "    for word2 in vocab:\n",
    "        try:\n",
    "            score=np.inner(a, vocab[word2])\n",
    "            scores[word2]=score\n",
    "        except:\n",
    "            pass\n",
    "\n",
    "    sorted_x = sorted(scores.iteritems(), key=operator.itemgetter(1), reverse=True)\n",
    "    for i in range(30):\n",
    "        (k,v) = sorted_x[i]\n",
    "        print \"%s\\t%s\" % (k,v)\n",
    "    print \"\""
   ]
  },
  {
   "cell_type": "code",
   "execution_count": 28,
   "metadata": {
    "collapsed": true
   },
   "outputs": [],
   "source": [
    "def find(word):\n",
    "    global vocab\n",
    "    scores={}\n",
    "    if word not in vocab:\n",
    "        print \"%s not in vocab\" % word\n",
    "        return\n",
    "\n",
    "    a=vocab[word]\n",
    "    findsim_vector(a)"
   ]
  },
  {
   "cell_type": "code",
   "execution_count": 29,
   "metadata": {
    "collapsed": true
   },
   "outputs": [],
   "source": [
    "def normalize():\n",
    "    global vocab\n",
    "    for word in vocab:\n",
    "        a=vocab[word]\n",
    "        norm=LA.norm(a, 2)\n",
    "\n",
    "        a /= norm\n",
    "        vocab[word]=a"
   ]
  },
  {
   "cell_type": "code",
   "execution_count": 30,
   "metadata": {
    "collapsed": true
   },
   "outputs": [],
   "source": [
    "def process(filename):\n",
    "    global vocab\n",
    "    file=open(filename)\n",
    "\n",
    "    vocab={}\n",
    "\n",
    "    for line in file:\n",
    "        cols=line.rstrip().split(\" \")\n",
    "        if len(cols) < 10:\n",
    "            continue\n",
    "        word=cols[0]\n",
    "        vals=cols[1:]\n",
    "        a=np.array(vals, dtype=float);\n",
    "        vocab[word]=a\n",
    "\n",
    "    file.close()\n",
    "\n",
    "    normalize()\n"
   ]
  },
  {
   "cell_type": "code",
   "execution_count": 100,
   "metadata": {
    "collapsed": false
   },
   "outputs": [],
   "source": [
    "data=\"../data/glove.840B.300d.txt\"\n",
    "process(data)"
   ]
  },
  {
   "cell_type": "code",
   "execution_count": 101,
   "metadata": {
    "collapsed": true
   },
   "outputs": [],
   "source": [
    "def getVector(query):\n",
    "    global vocab\n",
    "    if query in vocab:\n",
    "        return vocab[query]\n",
    "    print \"%s not in vocabulary!\" % query\n",
    "    return None\n"
   ]
  },
  {
   "cell_type": "code",
   "execution_count": 117,
   "metadata": {
    "collapsed": false
   },
   "outputs": [
    {
     "name": "stdout",
     "output_type": "stream",
     "text": [
      "English\t0.630617643783\n",
      "Switzerland\t0.581025298806\n",
      "German\t0.453714423555\n",
      "english\t0.446978553552\n",
      "Language\t0.434323725878\n",
      "Swiss\t0.43240356419\n",
      "French\t0.427923385645\n",
      "translation\t0.42539630586\n",
      "Austria\t0.423561961401\n",
      "languages\t0.422796613369\n",
      "language\t0.417886866774\n",
      "translated\t0.412952195421\n",
      "Spanish\t0.410339869427\n",
      "Czech\t0.384613331439\n",
      "Belgium\t0.383571368013\n",
      "Dutch\t0.381107822045\n",
      "Germany\t0.353598794366\n",
      "Italian\t0.351609160214\n",
      "Dictionary\t0.349603853507\n",
      "France\t0.349453302553\n",
      "England\t0.349210047592\n",
      "Netherlands\t0.349098207599\n",
      "spoken\t0.341252904506\n",
      "Swedish\t0.328795386781\n",
      "french\t0.321384371715\n",
      "Spain\t0.321314169041\n",
      "Cambridge\t0.319976529114\n",
      "Literature\t0.316560417251\n",
      "Sweden\t0.314898918614\n",
      "Oxford\t0.314562598148\n",
      "\n"
     ]
    }
   ],
   "source": [
    "base=getVector(\"English\")\n",
    "minus=getVector(\"US\")\n",
    "plus=getVector(\"Switzerland\")\n",
    "\n",
    "if base is not None and minus is not None and plus is not None:\n",
    "    diff=base-minus+plus\n",
    "    diff /= LA.norm(diff, 2)\n",
    "\n",
    "    findsim_vector(diff)"
   ]
  },
  {
   "cell_type": "code",
   "execution_count": 107,
   "metadata": {
    "collapsed": false
   },
   "outputs": [
    {
     "name": "stdout",
     "output_type": "stream",
     "text": [
      "king\t1.0\n",
      "queen\t0.725261033555\n",
      "King\t0.710679317511\n",
      "kingdom\t0.660404609363\n",
      "royal\t0.616881083744\n",
      "Queen\t0.509657954057\n",
      "god\t0.491222020801\n",
      "heaven\t0.485811205372\n",
      "thee\t0.484335674377\n",
      "crown\t0.477094114484\n",
      "thou\t0.471500024634\n",
      "sons\t0.465963101107\n",
      "brother\t0.460862236801\n",
      "Prince\t0.458430437795\n",
      "master\t0.454057737177\n",
      "gods\t0.452564298281\n",
      "father\t0.449441965996\n",
      "unto\t0.448250782245\n",
      "army\t0.442600370325\n",
      "castle\t0.437142176156\n",
      "holy\t0.434183053082\n",
      "son\t0.433852475415\n",
      "thy\t0.430108354367\n",
      "glory\t0.428305577509\n",
      "himself\t0.420104584211\n",
      "sword\t0.419589058357\n",
      "evil\t0.418216295451\n",
      "Lord\t0.416102884994\n",
      "wise\t0.415325122349\n",
      "hero\t0.412351765183\n",
      "\n"
     ]
    }
   ],
   "source": [
    "word=\"king\"\n",
    "find(word)"
   ]
  },
  {
   "cell_type": "code",
   "execution_count": null,
   "metadata": {
    "collapsed": true
   },
   "outputs": [],
   "source": []
  }
 ],
 "metadata": {
  "kernelspec": {
   "display_name": "Python 2",
   "language": "python",
   "name": "python2"
  },
  "language_info": {
   "codemirror_mode": {
    "name": "ipython",
    "version": 2
   },
   "file_extension": ".py",
   "mimetype": "text/x-python",
   "name": "python",
   "nbconvert_exporter": "python",
   "pygments_lexer": "ipython2",
   "version": "2.7.10"
  }
 },
 "nbformat": 4,
 "nbformat_minor": 0
}
